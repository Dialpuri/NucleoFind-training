{
 "cells": [
  {
   "cell_type": "code",
   "execution_count": 2,
   "metadata": {},
   "outputs": [],
   "source": [
    "import os "
   ]
  },
  {
   "cell_type": "code",
   "execution_count": 5,
   "metadata": {},
   "outputs": [
    {
     "name": "stdout",
     "output_type": "stream",
     "text": [
      "4361 / 7244\n"
     ]
    }
   ],
   "source": [
    "directory = \"/vault/NucleoFind-training-pr/unrefined_data\"\n",
    "\n",
    "\n",
    "completed = 0\n",
    "total = 0\n",
    "for path in os.scandir(directory): \n",
    "    count = 0\n",
    "    for subpath in os.scandir(path):\n",
    "        if 'combined' in subpath.name: \n",
    "            count += 1\n",
    "    if count == 2: \n",
    "        completed += 1\n",
    "    total += 1\n",
    "\n",
    "print(completed, \"/\", total)\n",
    "\n",
    "    "
   ]
  },
  {
   "cell_type": "code",
   "execution_count": null,
   "metadata": {},
   "outputs": [],
   "source": []
  }
 ],
 "metadata": {
  "kernelspec": {
   "display_name": ".venv",
   "language": "python",
   "name": "python3"
  },
  "language_info": {
   "codemirror_mode": {
    "name": "ipython",
    "version": 3
   },
   "file_extension": ".py",
   "mimetype": "text/x-python",
   "name": "python",
   "nbconvert_exporter": "python",
   "pygments_lexer": "ipython3",
   "version": "3.8.0"
  },
  "orig_nbformat": 4
 },
 "nbformat": 4,
 "nbformat_minor": 2
}
