{
 "cells": [
  {
   "cell_type": "code",
   "execution_count": null,
   "metadata": {},
   "outputs": [],
   "source": [
    "import pandas as pd\n",
    "import matplotlib.pyplot as plt"
   ]
  },
  {
   "cell_type": "code",
   "execution_count": null,
   "metadata": {},
   "outputs": [],
   "source": [
    "protein_na = \"/vault/NucleoFind-training-pr/data/raw/protein_na_merged.csv\"\n",
    "\n",
    "df = pd.read_csv(protein_na)\n",
    "\n",
    "plt.hist(df[\"Resolution (Å)\"], bins=100)\n",
    "plt.show()\n",
    "\n",
    "df[\"Structure Determination Method\"].value_counts()"
   ]
  },
  {
   "cell_type": "code",
   "execution_count": null,
   "metadata": {},
   "outputs": [],
   "source": [
    "na = \"/vault/NucleoFind-training-pr/data/raw/na_only_merged.csv\"\n",
    "\n",
    "df2 = pd.read_csv(na)\n",
    "res = df2[\"Resolution (Å)\"].apply(pd.to_numeric, errors='ignore', downcast='float')\n",
    "\n",
    "# df2.describe()\n",
    "\n",
    "plt.hist(res, bins=100)\n",
    "plt.show()\n",
    "\n",
    "df2[\"Structure Determination Method\"].value_counts()"
   ]
  },
  {
   "cell_type": "code",
   "execution_count": null,
   "metadata": {},
   "outputs": [],
   "source": [
    "df = pd.read_csv(\"/vault/NucleoFind-training-pr/data/raw/reserved_examples/protein_na_sample.csv\")\n",
    "res = df[\"Resolution (Å)\"].apply(pd.to_numeric, errors='ignore', downcast='float')\n",
    "df.describe()\n",
    "\n",
    "plt.hist(res, bins=50)\n",
    "plt.show()\n",
    "\n",
    "df[\"Structure Determination Method\"].value_counts()"
   ]
  }
 ],
 "metadata": {
  "kernelspec": {
   "display_name": ".venv",
   "language": "python",
   "name": "python3"
  },
  "language_info": {
   "codemirror_mode": {
    "name": "ipython",
    "version": 3
   },
   "file_extension": ".py",
   "mimetype": "text/x-python",
   "name": "python",
   "nbconvert_exporter": "python",
   "pygments_lexer": "ipython3",
   "version": "3.8.0"
  },
  "orig_nbformat": 4
 },
 "nbformat": 4,
 "nbformat_minor": 2
}
