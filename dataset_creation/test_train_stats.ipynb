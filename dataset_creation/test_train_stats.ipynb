{
 "cells": [
  {
   "cell_type": "code",
   "execution_count": 20,
   "metadata": {},
   "outputs": [],
   "source": [
    "# Import required libraries\n",
    "import pandas as pd\n",
    "import os\n",
    "import json\n",
    "import matplotlib.pyplot as plt\n",
    "import shutil\n",
    "import random"
   ]
  },
  {
   "cell_type": "code",
   "execution_count": 24,
   "metadata": {},
   "outputs": [
    {
     "name": "stdout",
     "output_type": "stream",
     "text": [
      "te=353,tr=1414 \n",
      "0.19977362761743067\n"
     ]
    }
   ],
   "source": [
    "train_pdbs = set()\n",
    "test_pdbs = set()\n",
    "\n",
    "train_dir = \"/vault/NucleoFind-training-pr/train_maps/\"\n",
    "test_dir = \"/vault/NucleoFind-training-pr/test_maps/\"\n",
    "\n",
    "for path in os.scandir(train_dir):\n",
    "    for subpath in os.scandir(path):\n",
    "        train_pdbs.add(os.path.join(path.name, subpath.name))\n",
    "\n",
    "\n",
    "for path in os.scandir(test_dir):\n",
    "    for subpath in os.scandir(path):\n",
    "        test_pdbs.add(os.path.join(path.name, subpath.name))\n",
    "\n",
    "intersection = train_pdbs.intersection(test_pdbs)\n",
    "\n",
    "# for i in intersection:\n",
    "#     shutil.move(os.path.join(test_dir, i), os.path.join(train_dir, i))\n",
    "\n",
    "# 0.2 = te/tr+te\n",
    "\n",
    "tr = (len(os.listdir(os.path.join(train_dir, \"na_only\"))))\n",
    "te= (len(os.listdir(os.path.join(test_dir, \"na_only\"))))\n",
    "\n",
    "# total = tr+te\n",
    "# test_number_needed = int(total*0.2)-te\n",
    "# print(test_number_needed)\n",
    "\n",
    "# l = list(os.listdir(\"/vault/NucleoFind-training-pr/train_maps/na_only/\"))\n",
    "# random.shuffle(l)\n",
    "# for i in range(264):\n",
    "#     shutil.move(os.path.join(\"/vault/NucleoFind-training-pr/train_maps/na_only/\", l[i]), os.path.join(\"/vault/NucleoFind-training-pr/test_maps/na_only/\", l[i]))\n",
    "\n",
    "\n",
    "\n",
    "print(f\"{te=},{tr=} \")\n",
    "print((te/(tr+te)))"
   ]
  },
  {
   "cell_type": "code",
   "execution_count": 5,
   "metadata": {},
   "outputs": [
    {
     "data": {
      "text/plain": [
       "0.19942748091603055"
      ]
     },
     "execution_count": 5,
     "metadata": {},
     "output_type": "execute_result"
    }
   ],
   "source": [
    "# reorganise na_only\n",
    "\n"
   ]
  }
 ],
 "metadata": {
  "kernelspec": {
   "display_name": ".venv",
   "language": "python",
   "name": "python3"
  },
  "language_info": {
   "codemirror_mode": {
    "name": "ipython",
    "version": 3
   },
   "file_extension": ".py",
   "mimetype": "text/x-python",
   "name": "python",
   "nbconvert_exporter": "python",
   "pygments_lexer": "ipython3",
   "version": "3.8.0"
  },
  "orig_nbformat": 4
 },
 "nbformat": 4,
 "nbformat_minor": 2
}
