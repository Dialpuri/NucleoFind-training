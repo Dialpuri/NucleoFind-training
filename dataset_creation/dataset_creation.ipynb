{
 "cells": [
  {
   "cell_type": "code",
   "execution_count": 2,
   "metadata": {},
   "outputs": [],
   "source": [
    "# Import required libraries\n",
    "import pandas as pd\n",
    "import os"
   ]
  },
  {
   "cell_type": "code",
   "execution_count": 14,
   "metadata": {},
   "outputs": [],
   "source": [
    "# NA Only\n",
    "reserved_df = pd.read_csv(\"/vault/NucleoFind-training-pr/data/raw/reserved_examples/mr_testlist.txt\")[\"PDB\"].to_list()\n",
    "na_only_dir = \"/vault/NucleoFind-training-pr/data/raw/na_only\"\n",
    "\n",
    "dfs = []\n",
    "for path in os.scandir(na_only_dir):\n",
    "    if \".csv\" in path.name:\n",
    "        df = pd.read_csv(path.path)\n",
    "        dfs.append(df)\n",
    "\n",
    "merged_df = pd.concat(dfs)\n",
    "merged_df = merged_df.drop(['Entry ID'], axis=1)\n",
    "merged_df = merged_df[['PDB ID', \"Resolution (Å)\", \"Structure Determination Method\"]]\n",
    "\n",
    "merged_df = merged_df[~merged_df[\"PDB ID\"].isin(reserved_df)]\n",
    "\n",
    "merged_df = merged_df.sample(frac=1)\n",
    "\n",
    "sample = merged_df.sample(100)\n",
    "sample.to_csv(\"/vault/NucleoFind-training-pr/data/raw/reserved_examples/na_sample.csv\", index=False)\n",
    "\n",
    "merged_df = merged_df.drop(sample.index)\n",
    "merged_df.to_csv(\"/vault/NucleoFind-training-pr/data/raw/na_only_merged.csv\", index=False)\n",
    "\n",
    "pdb_list = merged_df[\"PDB ID\"]\n",
    "pdb_list.to_csv(\"/vault/NucleoFind-training-pr/data/raw/na_only_pdblist.csv\", index=False)\n"
   ]
  },
  {
   "cell_type": "code",
   "execution_count": 15,
   "metadata": {},
   "outputs": [],
   "source": [
    "# Protein/NA \n",
    "reserved_df = pd.read_csv(\"/vault/NucleoFind-training-pr/data/raw/reserved_examples/mr_testlist.txt\")[\"PDB\"].to_list()\n",
    "na_only_dir = \"/vault/NucleoFind-training-pr/data/raw/protein_na\"\n",
    "dfs = []\n",
    "for path in os.scandir(na_only_dir):\n",
    "    if \".csv\" in path.name:\n",
    "        df = pd.read_csv(path.path)\n",
    "        dfs.append(df)\n",
    "\n",
    "merged_df = pd.concat(dfs)\n",
    "merged_df = merged_df.drop(['Entry ID'], axis=1)\n",
    "merged_df = merged_df[['PDB ID', \"Resolution (Å)\", \"Structure Determination Method\"]]\n",
    "merged_df = merged_df[~merged_df[\"PDB ID\"].isin(reserved_df)]\n",
    "\n",
    "merged_df = merged_df.sample(frac=1)\n",
    "\n",
    "sample = merged_df.sample(100)\n",
    "sample.to_csv(\"/vault/NucleoFind-training-pr/data/raw/reserved_examples/protein_na_sample.csv\", index=False)\n",
    "\n",
    "merged_df = merged_df.drop(sample.index)\n",
    "merged_df.to_csv(\"/vault/NucleoFind-training-pr/data/raw/protein_na_merged.csv\", index=False)\n",
    "\n",
    "pdb_list = merged_df[\"PDB ID\"]\n",
    "pdb_list.to_csv(\"/vault/NucleoFind-training-pr/data/raw/protein_na_pdblist.csv\", index=False)\n"
   ]
  },
  {
   "cell_type": "code",
   "execution_count": 3,
   "metadata": {},
   "outputs": [],
   "source": [
    "# Get unrefined_mtz protein-nucleic list\n",
    "unrefined_mtz_base_dir = \"/vault/NucleoFind-training-pr/unrefined_data/\"\n",
    "\n",
    "none_list = []\n",
    "# half_list = []\n",
    "\n",
    "for path in os.scandir(unrefined_mtz_base_dir):\n",
    "    none_path = os.path.join(path.path, \"0\", f\"{path.name}_0.mtz\")\n",
    "    # half_path = os.path.join(path.path, \"0.5\", f\"{path.name}_0.5.mtz\")\n",
    "\n",
    "    if os.path.exists(none_path):\n",
    "        none_list.append((path.name, none_path))\n",
    "    \n",
    "    # if os.path.exists(half_path):\n",
    "    #     half_list.append((path.name, half_path))\n",
    "\n",
    "none_df = pd.DataFrame(none_list, columns=[\"PDB\", \"Path\"])\n",
    "# half_df = pd.DataFrame(half_list, columns=[\"PDB\", \"Path\"])\n",
    "\n",
    "none_df.to_csv(\"/vault/NucleoFind-training-pr/data/unrefined/none_paths.csv\", index=False)\n",
    "# half_df.to_csv(\"/vault/NucleoFind-training-pr/data/unrefined/half_paths.csv\", index=False)\n"
   ]
  },
  {
   "cell_type": "code",
   "execution_count": 3,
   "metadata": {},
   "outputs": [],
   "source": [
    "#Get refined protein-nucleic list\n",
    "refined_mtz_base_dir = \"/vault/NucleoFind-training-pr/data/protein_na/mtz/\"\n",
    "reserved_df = pd.read_csv(\"/vault/NucleoFind-training-pr/data/raw/reserved_examples/mr_testlist.txt\")[\"PDB\"].to_list()\n",
    "\n",
    "refined_list = []\n",
    "\n",
    "for path in os.scandir(refined_mtz_base_dir):\n",
    "    pdb = path.name.rstrip(\".mtz\")\n",
    "    if pdb in reserved_df:\n",
    "        continue\n",
    "    \n",
    "    pdb_path = f\"/vault/NucleoFind-training-pr/data/protein_na/pdb/{pdb}.pdb\"\n",
    "    if os.path.exists(pdb_path):\n",
    "        refined_list.append((pdb,path.path,pdb_path))\n",
    "    \n",
    "df = pd.DataFrame(refined_list, columns=[\"PDB\", \"MTZPath\", \"PDBPath\"])\n",
    "df.to_csv(\"/vault/NucleoFind-training-pr/data/protein_na/refined_paths.csv\", index=False)"
   ]
  },
  {
   "cell_type": "code",
   "execution_count": 6,
   "metadata": {},
   "outputs": [],
   "source": [
    "#Get na list\n",
    "na_mtz_base_dir = \"/vault/NucleoFind-training-pr/data/na_only/mtz/\"\n",
    "reserved_df = pd.read_csv(\"/vault/NucleoFind-training-pr/data/raw/reserved_examples/mr_testlist.txt\")[\"PDB\"].to_list()\n",
    "\n",
    "na_list = []\n",
    "\n",
    "for path in os.scandir(na_mtz_base_dir):\n",
    "    pdb = path.name.rstrip(\".mtz\")\n",
    "    if pdb in reserved_df:\n",
    "        continue\n",
    "    \n",
    "    pdb_path = f\"/vault/NucleoFind-training-pr/data/na_only/pdb/{pdb}.pdb\"\n",
    "    if os.path.exists(pdb_path):\n",
    "        na_list.append((pdb, path.path, pdb_path))\n",
    "    \n",
    "df = pd.DataFrame(na_list, columns=[\"PDB\", \"MTZPath\", \"PDBPath\"])\n",
    "df.to_csv(\"/vault/NucleoFind-training-pr/data/na_only/refined_paths.csv\", index=False)"
   ]
  },
  {
   "cell_type": "code",
   "execution_count": 2,
   "metadata": {},
   "outputs": [],
   "source": [
    "import pandas as pd \n",
    "\n",
    "df = pd.read_csv(\"/vault/NucleoFind-training-pr/data/raw/reserved_examples/protein_na_sample.csv\")\n",
    "\n",
    "pdbs = df[\"PDB ID\"]\n",
    "\n",
    "pdbs.to_csv(\"/vault/NucleoFind-training-pr/data/raw/reserved_examples/reserved_protein_na_pdblist.csv\", index=False)\n",
    "\n"
   ]
  }
 ],
 "metadata": {
  "kernelspec": {
   "display_name": ".venv",
   "language": "python",
   "name": "python3"
  },
  "language_info": {
   "codemirror_mode": {
    "name": "ipython",
    "version": 3
   },
   "file_extension": ".py",
   "mimetype": "text/x-python",
   "name": "python",
   "nbconvert_exporter": "python",
   "pygments_lexer": "ipython3",
   "version": "3.8.0"
  },
  "orig_nbformat": 4
 },
 "nbformat": 4,
 "nbformat_minor": 2
}
